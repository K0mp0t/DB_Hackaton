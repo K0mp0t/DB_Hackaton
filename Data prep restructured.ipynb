{
 "cells": [
  {
   "cell_type": "code",
   "execution_count": 1,
   "id": "ea131ac3",
   "metadata": {},
   "outputs": [],
   "source": [
    "import pandas as pd\n",
    "from sklearn.feature_extraction import FeatureHasher\n",
    "import numpy as np\n",
    "\n",
    "\n",
    "main_df = pd.read_csv('./data/bsm_data_train.csv')\n",
    "rasp_data = pd.read_csv('./data/flight_rasp_data.csv')\n",
    "kilometers_df = pd.read_csv('./kilometers.csv')\n",
    "\n",
    "main_df = main_df.drop_duplicates('ident_bag', keep='first').reset_index(drop=True)\n",
    "main_df = main_df.join(rasp_data.set_index('i_id'), on='i_id')\n",
    "main_df = main_df.drop(columns=['pax_id_hash', 'm_city_rus1', 'DateEvent'])"
   ]
  },
  {
   "cell_type": "code",
   "execution_count": 2,
   "id": "c99cb0f8",
   "metadata": {},
   "outputs": [],
   "source": [
    "main_df['MessageReceivedMinutes'] = pd.to_datetime(main_df['MessageReceivedDate']).apply(lambda x: x.value) / 1000000000 // 60\n",
    "main_df['MessageReceivedMinutes'] = main_df['MessageReceivedMinutes'].astype(int)\n",
    "main_df['MessageReceivedMinutes'] -= main_df['MessageReceivedMinutes'].min()\n",
    "main_df = main_df.sort_values(by='MessageReceivedMinutes')\n",
    "\n",
    "main_df['ProcessingTime'] = (pd.to_datetime(main_df.MessageProcessedDate) - pd.to_datetime(main_df.MessageReceivedDate)).apply(lambda x: x.seconds)\n",
    "\n",
    "main_df = main_df.drop(columns=['ident_bag', 'i_id', 'MessageProcessedDate', 'TagNumber'], errors='ignore')\n",
    "main_df['is_dep_B'] = main_df.departure_terminal == 'B'\n",
    "main_df['is_local'] = main_df.local_or_transfer == 'L'\n",
    "main_df['departure_equals_checkin'] = (main_df['departure_terminal'] == main_df['checkin_terminal']).astype('int')\n",
    "main_df = main_df.drop(columns=['local_or_transfer', 'departure_terminal', 'checkin_terminal', 'flt_hash'])\n",
    "\n",
    "main_df['ProcessingTime'] /= main_df.ProcessingTime.max()\n",
    "\n",
    "main_df['dep_day'] = pd.to_datetime(main_df['t_st']).apply(lambda x: x.dayofweek) / 6\n",
    "main_df['dep_hour'] = pd.to_datetime(main_df['t_st']).apply(lambda x: x.hour) / 23\n",
    "\n",
    "main_df = main_df.drop(columns='t_st')\n",
    "\n",
    "# тут может быть долго\n",
    "rasp_data['t_st'] = pd.to_datetime(rasp_data.t_st).apply(lambda x: x.timestamp())\n",
    "rasp_data['t_st'] -= rasp_data.t_st.min()\n",
    "rasp_data['t_st'] //= 60\n",
    "\n",
    "nflights_next_3_hours = list()\n",
    "\n",
    "for e in main_df.MessageReceivedMinutes.unique():\n",
    "    nflights_next_3_hours.append((e, (rasp_data.t_st - e).between(0, 180).sum()))\n",
    "    \n",
    "main_df = main_df.merge(pd.DataFrame.from_records(nflights_next_3_hours, columns=['MessageReceivedMinutes', 'nflights_next_3_hours']), on='MessageReceivedMinutes')\n",
    "main_df['nflights_next_3_hours'] /= main_df.nflights_next_3_hours.max()\n",
    "\n",
    "hasher = FeatureHasher(n_features=10)\n",
    "\n",
    "hashed = hasher.transform(main_df[['airline_grouped_hash', 'cco_hash']].to_dict(orient='records')).toarray()\n",
    "main_df = pd.concat([main_df, pd.DataFrame(hashed)], axis=1)\n",
    "\n",
    "kilometers_df = kilometers_df.drop(columns=['Unnamed: 0']).rename(columns={'0': 'm_city_rus2'}).set_index('m_city_rus2').dropna()\n",
    "main_df = main_df.join(kilometers_df, on='m_city_rus2')\n",
    "main_df.loc[main_df.km.isna(), 'km'] = main_df.km.mean()\n",
    "main_df['km'] /= main_df.km.max()\n",
    "\n",
    "main_df['config'] /= main_df.config.max()"
   ]
  },
  {
   "cell_type": "code",
   "execution_count": 8,
   "id": "d0f31a54",
   "metadata": {},
   "outputs": [],
   "source": [
    "X = main_df.drop(columns=['MessageReceivedDate', 'airline_grouped_hash', 'cco_hash', 'm_city_rus2']).groupby('MessageReceivedMinutes').mean()\n",
    "target = main_df.MessageReceivedMinutes.value_counts().sort_index().rename('target')\n",
    "\n",
    "for i in set(np.arange(X.index.max())) - set(X.index):\n",
    "    X.loc[i] = X.mean()\n",
    "    target.loc[i] = target.mean()\n",
    "    \n",
    "X = X.sort_index()\n",
    "target = target.sort_index()\n",
    "\n",
    "X.to_csv('x_v1.csv', index=False)\n",
    "target.to_csv('target_v1.csv', index=False)"
   ]
  },
  {
   "cell_type": "code",
   "execution_count": 9,
   "id": "2133adb2",
   "metadata": {},
   "outputs": [],
   "source": [
    "X = main_df.drop(columns=['MessageReceivedDate', 'airline_grouped_hash', 'm_city_rus2', 'nflights_next_3_hours'])\n",
    "X.to_csv('x_v2.csv', index=False)\n",
    "main_df.groupby(['MessageReceivedMinutes', 'cco_hash']).size().rename('target').to_csv('target_v2.csv')"
   ]
  },
  {
   "cell_type": "code",
   "execution_count": null,
   "id": "882a8837",
   "metadata": {},
   "outputs": [],
   "source": []
  }
 ],
 "metadata": {
  "kernelspec": {
   "display_name": "Python 3 (ipykernel)",
   "language": "python",
   "name": "python3"
  },
  "language_info": {
   "codemirror_mode": {
    "name": "ipython",
    "version": 3
   },
   "file_extension": ".py",
   "mimetype": "text/x-python",
   "name": "python",
   "nbconvert_exporter": "python",
   "pygments_lexer": "ipython3",
   "version": "3.9.13"
  }
 },
 "nbformat": 4,
 "nbformat_minor": 5
}

{
 "cells": [
  {
   "cell_type": "code",
   "execution_count": 8,
   "id": "b4277995",
   "metadata": {},
   "outputs": [
    {
     "name": "stdout",
     "output_type": "stream",
     "text": [
      "<class 'pandas.core.frame.DataFrame'>\n",
      "RangeIndex: 89213 entries, 0 to 89212\n",
      "Data columns (total 19 columns):\n",
      " #   Column                    Non-Null Count  Dtype  \n",
      "---  ------                    --------------  -----  \n",
      " 0   ProcessingTime            89213 non-null  float64\n",
      " 1   config                    89213 non-null  float64\n",
      " 2   is_dep_B                  89213 non-null  float64\n",
      " 3   is_local                  89213 non-null  float64\n",
      " 4   departure_equals_checkin  89213 non-null  float64\n",
      " 5   dep_day                   89213 non-null  float64\n",
      " 6   dep_hour                  89213 non-null  float64\n",
      " 7   nflights_next_3_hours     89213 non-null  float64\n",
      " 8   0                         89213 non-null  float64\n",
      " 9   1                         89213 non-null  float64\n",
      " 10  2                         89213 non-null  float64\n",
      " 11  3                         89213 non-null  float64\n",
      " 12  4                         89213 non-null  float64\n",
      " 13  5                         89213 non-null  float64\n",
      " 14  6                         89213 non-null  float64\n",
      " 15  7                         89213 non-null  float64\n",
      " 16  8                         89213 non-null  float64\n",
      " 17  9                         89213 non-null  float64\n",
      " 18  km                        89213 non-null  float64\n",
      "dtypes: float64(19)\n",
      "memory usage: 12.9 MB\n"
     ]
    }
   ],
   "source": [
    "import pandas as pd\n",
    "\n",
    "X = pd.read_csv('x_v1.csv')\n",
    "y = pd.read_csv('target.csv')\n",
    "\n",
    "X.info()"
   ]
  },
  {
   "cell_type": "code",
   "execution_count": 9,
   "id": "cdd7a36e",
   "metadata": {},
   "outputs": [],
   "source": [
    "rolls = [5, 15, 30, 60, 120]\n",
    "columns_to_roll = ['ProcessingTime', 'config', 'is_dep_B', 'is_local', 'departure_equals_checkin']\n",
    "rolled = [X]\n",
    "\n",
    "for roll in rolls:\n",
    "    rolled.append(X[columns_to_roll].rolling(roll).mean().rename(columns={c: c+f'_{roll}' for c in columns_to_roll}))\n",
    "    rolled.append(y.rolling(roll).mean().rename(columns={'target': f'target_{roll}'}))\n",
    "    \n",
    "X = pd.concat(rolled, axis=1)\n",
    "    \n",
    "X = X.iloc[max(rolls):]\n",
    "y = y.iloc[max(rolls):]"
   ]
  },
  {
   "cell_type": "code",
   "execution_count": 13,
   "id": "320aa291",
   "metadata": {},
   "outputs": [
    {
     "name": "stdout",
     "output_type": "stream",
     "text": [
      "split: 0.17/0.17, MAPE: 0.14848510839824922\n",
      "split: 0.33/0.17, MAPE: 0.15125990890421076\n",
      "split: 0.5/0.17, MAPE: 0.1493815431546566\n",
      "split: 0.67/0.17, MAPE: 0.14706455932112145\n",
      "split: 0.83/0.17, MAPE: 0.14859198489593373\n"
     ]
    }
   ],
   "source": [
    "from sklearn.model_selection import TimeSeriesSplit\n",
    "from sklearn.linear_model import LinearRegression, SGDRegressor\n",
    "from sklearn.svm import SVC\n",
    "from sklearn.metrics import mean_absolute_percentage_error\n",
    "\n",
    "tscv = TimeSeriesSplit(n_splits=5)\n",
    "for train_idx, val_idx in tscv.split(X):\n",
    "    train_X = X.iloc[train_idx].to_numpy()\n",
    "    train_y = y.iloc[train_idx].to_numpy().ravel()\n",
    "    \n",
    "    val_X = X.iloc[val_idx].to_numpy()\n",
    "    val_y = y.iloc[val_idx].to_numpy().ravel()\n",
    "    \n",
    "    estimator = LinearRegression()\n",
    "    estimator.fit(train_X, train_y)\n",
    "    \n",
    "    print(f'split: {round(len(train_idx)/len(X), 2)}/{round(len(val_idx)/len(X), 2)}, MAPE: {mean_absolute_percentage_error(estimator.predict(val_X), val_y)}')"
   ]
  },
  {
   "cell_type": "code",
   "execution_count": 14,
   "id": "7fd079d9",
   "metadata": {},
   "outputs": [],
   "source": [
    "from sklearn.feature_selection import RFECV\n",
    "import matplotlib.pyplot as plt\n",
    "import numpy as np\n",
    "\n",
    "selector = RFECV(LinearRegression(), step=1, cv=tscv.split(X))\n",
    "selector.fit(X.to_numpy(), y.to_numpy())\n",
    "\n",
    "for c, r in zip(X.columns, selector.ranking_):\n",
    "    if r > 1:\n",
    "        print(c, r)"
   ]
  },
  {
   "cell_type": "code",
   "execution_count": null,
   "id": "1920a589",
   "metadata": {},
   "outputs": [],
   "source": []
  }
 ],
 "metadata": {
  "kernelspec": {
   "display_name": "Python 3 (ipykernel)",
   "language": "python",
   "name": "python3"
  },
  "language_info": {
   "codemirror_mode": {
    "name": "ipython",
    "version": 3
   },
   "file_extension": ".py",
   "mimetype": "text/x-python",
   "name": "python",
   "nbconvert_exporter": "python",
   "pygments_lexer": "ipython3",
   "version": "3.9.13"
  }
 },
 "nbformat": 4,
 "nbformat_minor": 5
}

{
 "cells": [
  {
   "cell_type": "code",
   "execution_count": 51,
   "id": "b4277995",
   "metadata": {},
   "outputs": [
    {
     "name": "stdout",
     "output_type": "stream",
     "text": [
      "<class 'pandas.core.frame.DataFrame'>\n",
      "RangeIndex: 89213 entries, 0 to 89212\n",
      "Data columns (total 5 columns):\n",
      " #   Column                    Non-Null Count  Dtype  \n",
      "---  ------                    --------------  -----  \n",
      " 0   ProcessingTime            89213 non-null  float64\n",
      " 1   config                    89213 non-null  float64\n",
      " 2   is_dep_B                  89213 non-null  float64\n",
      " 3   is_local                  89213 non-null  float64\n",
      " 4   departure_equals_checkin  89213 non-null  float64\n",
      "dtypes: float64(5)\n",
      "memory usage: 3.4 MB\n"
     ]
    }
   ],
   "source": [
    "import pandas as pd\n",
    "\n",
    "X = pd.read_csv('x_v1.csv')\n",
    "y = pd.read_csv('target.csv')\n",
    "\n",
    "X.info()"
   ]
  },
  {
   "cell_type": "code",
   "execution_count": 52,
   "id": "cdd7a36e",
   "metadata": {},
   "outputs": [],
   "source": [
    "rolls = [5, 15, 30, 60, 120]\n",
    "rolled = [X]\n",
    "\n",
    "for roll in rolls:\n",
    "    rolled.append(X.rolling(roll).mean().rename(columns={c: c+f'_{roll}' for c in X.columns}))\n",
    "    rolled.append(y.rolling(roll).mean().rename(columns={'MessageReceivedMinutes': f'MessageReceivedMinutes_{roll}'}))\n",
    "    \n",
    "X = pd.concat(rolled, axis=1)\n",
    "    \n",
    "X = X.iloc[max(rolls):]\n",
    "y = y.iloc[max(rolls):]"
   ]
  },
  {
   "cell_type": "code",
   "execution_count": 53,
   "id": "320aa291",
   "metadata": {},
   "outputs": [
    {
     "name": "stdout",
     "output_type": "stream",
     "text": [
      "split: 0.17/0.17, MAPE: 0.14847595715003753\n",
      "split: 0.33/0.17, MAPE: 0.15113403803271536\n",
      "split: 0.5/0.17, MAPE: 0.1494287841300959\n",
      "split: 0.67/0.17, MAPE: 0.14703667574101265\n",
      "split: 0.83/0.17, MAPE: 0.1489439141543168\n"
     ]
    }
   ],
   "source": [
    "from sklearn.model_selection import TimeSeriesSplit\n",
    "from sklearn.linear_model import LinearRegression\n",
    "from sklearn.metrics import mean_absolute_percentage_error\n",
    "\n",
    "tscv = TimeSeriesSplit(n_splits=5)\n",
    "for train_idx, val_idx in tscv.split(X):\n",
    "    train_X = X.iloc[train_idx]\n",
    "    train_y = y.iloc[train_idx]\n",
    "    \n",
    "    val_X = X.iloc[val_idx]\n",
    "    val_y = y.iloc[val_idx]\n",
    "    \n",
    "    lr = LinearRegression()\n",
    "    lr.fit(train_X, train_y)\n",
    "    \n",
    "    print(f'split: {round(len(train_idx)/len(X), 2)}/{round(len(val_idx)/len(X), 2)}, MAPE: {mean_absolute_percentage_error(lr.predict(val_X), val_y)}')"
   ]
  },
  {
   "cell_type": "code",
   "execution_count": 54,
   "id": "7fd079d9",
   "metadata": {},
   "outputs": [
    {
     "data": {
      "text/plain": [
       "<BarContainer object of 35 artists>"
      ]
     },
     "execution_count": 54,
     "metadata": {},
     "output_type": "execute_result"
    },
    {
     "data": {
      "image/png": "[encoded data removed]",
      "text/plain": [
       "<Figure size 640x480 with 1 Axes>"
      ]
     },
     "metadata": {},
     "output_type": "display_data"
    }
   ],
   "source": [
    "from sklearn.feature_selection import RFECV\n",
    "import matplotlib.pyplot as plt\n",
    "import numpy as np\n",
    "\n",
    "selector = RFECV(LinearRegression(), step=1, cv=tscv.split(X))\n",
    "selector.fit(X.to_numpy(), y.to_numpy())\n",
    "\n",
    "plt.bar(np.arange(len(X.columns)), selector.ranking_)"
   ]
  },
  {
   "cell_type": "code",
   "execution_count": null,
   "id": "62dc34c7",
   "metadata": {},
   "outputs": [],
   "source": []
  }
 ],
 "metadata": {
  "kernelspec": {
   "display_name": "Python 3 (ipykernel)",
   "language": "python",
   "name": "python3"
  },
  "language_info": {
   "codemirror_mode": {
    "name": "ipython",
    "version": 3
   },
   "file_extension": ".py",
   "mimetype": "text/x-python",
   "name": "python",
   "nbconvert_exporter": "python",
   "pygments_lexer": "ipython3",
   "version": "3.9.13"
  }
 },
 "nbformat": 4,
 "nbformat_minor": 5
}

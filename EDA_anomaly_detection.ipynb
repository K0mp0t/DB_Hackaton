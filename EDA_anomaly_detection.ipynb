{
 "cells": [
  {
   "cell_type": "code",
   "execution_count": 3,
   "id": "751e2d29",
   "metadata": {},
   "outputs": [
    {
     "data": {
      "text/html": [
       "<div>\n",
       "<style scoped>\n",
       "    .dataframe tbody tr th:only-of-type {\n",
       "        vertical-align: middle;\n",
       "    }\n",
       "\n",
       "    .dataframe tbody tr th {\n",
       "        vertical-align: top;\n",
       "    }\n",
       "\n",
       "    .dataframe thead th {\n",
       "        text-align: right;\n",
       "    }\n",
       "</style>\n",
       "<table border=\"1\" class=\"dataframe\">\n",
       "  <thead>\n",
       "    <tr style=\"text-align: right;\">\n",
       "      <th></th>\n",
       "      <th>ident_bag</th>\n",
       "      <th>i_id</th>\n",
       "      <th>pax_id_hash</th>\n",
       "      <th>MessageReceivedDate</th>\n",
       "      <th>MessageProcessedDate</th>\n",
       "      <th>DateEvent</th>\n",
       "      <th>TagNumber</th>\n",
       "      <th>local_or_transfer</th>\n",
       "    </tr>\n",
       "  </thead>\n",
       "  <tbody>\n",
       "    <tr>\n",
       "      <th>0</th>\n",
       "      <td>62562416</td>\n",
       "      <td>8628981.0</td>\n",
       "      <td>dcd856b334b9685c4f21afa67f3ddc70</td>\n",
       "      <td>2023-07-01 06:53:34.413</td>\n",
       "      <td>2023-07-01 06:53:37.720</td>\n",
       "      <td>2023-07-01 06:53:37.717</td>\n",
       "      <td>2425399448</td>\n",
       "      <td>L</td>\n",
       "    </tr>\n",
       "    <tr>\n",
       "      <th>1</th>\n",
       "      <td>62571791</td>\n",
       "      <td>8628981.0</td>\n",
       "      <td>dcd856b334b9685c4f21afa67f3ddc70</td>\n",
       "      <td>2023-07-01 06:53:24.603</td>\n",
       "      <td>2023-07-01 06:53:28.590</td>\n",
       "      <td>2023-07-01 06:53:28.577</td>\n",
       "      <td>2425388102</td>\n",
       "      <td>L</td>\n",
       "    </tr>\n",
       "    <tr>\n",
       "      <th>2</th>\n",
       "      <td>62553945</td>\n",
       "      <td>8629051.0</td>\n",
       "      <td>f2b931876cac089c6a02af1b70d08c61</td>\n",
       "      <td>2023-07-01 06:59:56.263</td>\n",
       "      <td>2023-07-01 06:59:59.610</td>\n",
       "      <td>2023-07-01 06:59:59.607</td>\n",
       "      <td>3555170959</td>\n",
       "      <td>L</td>\n",
       "    </tr>\n",
       "    <tr>\n",
       "      <th>3</th>\n",
       "      <td>62574680</td>\n",
       "      <td>8629296.0</td>\n",
       "      <td>2e3291401628ca69061c49b3319793a1</td>\n",
       "      <td>2023-07-01 14:34:52.870</td>\n",
       "      <td>2023-07-01 14:34:55.547</td>\n",
       "      <td>2023-07-01 14:34:55.543</td>\n",
       "      <td>2316437470</td>\n",
       "      <td>L</td>\n",
       "    </tr>\n",
       "    <tr>\n",
       "      <th>4</th>\n",
       "      <td>62575458</td>\n",
       "      <td>8629296.0</td>\n",
       "      <td>2e3291401628ca69061c49b3319793a1</td>\n",
       "      <td>2023-07-01 14:34:35.300</td>\n",
       "      <td>2023-07-01 14:34:39.380</td>\n",
       "      <td>2023-07-01 14:34:39.380</td>\n",
       "      <td>2316437464</td>\n",
       "      <td>L</td>\n",
       "    </tr>\n",
       "    <tr>\n",
       "      <th>...</th>\n",
       "      <td>...</td>\n",
       "      <td>...</td>\n",
       "      <td>...</td>\n",
       "      <td>...</td>\n",
       "      <td>...</td>\n",
       "      <td>...</td>\n",
       "      <td>...</td>\n",
       "      <td>...</td>\n",
       "    </tr>\n",
       "    <tr>\n",
       "      <th>1989371</th>\n",
       "      <td>64616153</td>\n",
       "      <td>8687750.0</td>\n",
       "      <td>1724dd3d56108fea2c917f370f77e664</td>\n",
       "      <td>2023-08-31 23:59:50.757</td>\n",
       "      <td>2023-08-31 23:59:53.393</td>\n",
       "      <td>2023-08-31 23:59:53.390</td>\n",
       "      <td>263789487</td>\n",
       "      <td>L</td>\n",
       "    </tr>\n",
       "    <tr>\n",
       "      <th>1989372</th>\n",
       "      <td>64616152</td>\n",
       "      <td>8687783.0</td>\n",
       "      <td>45ca01ef5df1fda1da6b9a85e0a26628</td>\n",
       "      <td>2023-08-31 23:59:50.757</td>\n",
       "      <td>2023-08-31 23:59:53.370</td>\n",
       "      <td>2023-08-31 23:59:53.367</td>\n",
       "      <td>395191461</td>\n",
       "      <td>L</td>\n",
       "    </tr>\n",
       "    <tr>\n",
       "      <th>1989373</th>\n",
       "      <td>64616154</td>\n",
       "      <td>8687786.0</td>\n",
       "      <td>2acb4b86315d6e49efc0a824b3cba80d</td>\n",
       "      <td>2023-08-31 23:59:53.600</td>\n",
       "      <td>2023-08-31 23:59:57.260</td>\n",
       "      <td>2023-08-31 23:59:57.257</td>\n",
       "      <td>7115420782</td>\n",
       "      <td>L</td>\n",
       "    </tr>\n",
       "    <tr>\n",
       "      <th>1989374</th>\n",
       "      <td>64616155</td>\n",
       "      <td>8687774.0</td>\n",
       "      <td>1d767047c6955c86ef4e0626bc60d213</td>\n",
       "      <td>2023-08-31 23:59:55.637</td>\n",
       "      <td>2023-08-31 23:59:57.413</td>\n",
       "      <td>2023-08-31 23:59:57.413</td>\n",
       "      <td>216561658</td>\n",
       "      <td>L</td>\n",
       "    </tr>\n",
       "    <tr>\n",
       "      <th>1989375</th>\n",
       "      <td>64616156</td>\n",
       "      <td>8688045.0</td>\n",
       "      <td>e00a871c3291782beb9de879fa5bcf71</td>\n",
       "      <td>2023-08-31 23:59:56.857</td>\n",
       "      <td>2023-08-31 23:59:57.547</td>\n",
       "      <td>2023-08-31 23:59:57.543</td>\n",
       "      <td>555105787</td>\n",
       "      <td>T</td>\n",
       "    </tr>\n",
       "  </tbody>\n",
       "</table>\n",
       "<p>1989376 rows × 8 columns</p>\n",
       "</div>"
      ],
      "text/plain": [
       "         ident_bag       i_id                       pax_id_hash  \\\n",
       "0         62562416  8628981.0  dcd856b334b9685c4f21afa67f3ddc70   \n",
       "1         62571791  8628981.0  dcd856b334b9685c4f21afa67f3ddc70   \n",
       "2         62553945  8629051.0  f2b931876cac089c6a02af1b70d08c61   \n",
       "3         62574680  8629296.0  2e3291401628ca69061c49b3319793a1   \n",
       "4         62575458  8629296.0  2e3291401628ca69061c49b3319793a1   \n",
       "...            ...        ...                               ...   \n",
       "1989371   64616153  8687750.0  1724dd3d56108fea2c917f370f77e664   \n",
       "1989372   64616152  8687783.0  45ca01ef5df1fda1da6b9a85e0a26628   \n",
       "1989373   64616154  8687786.0  2acb4b86315d6e49efc0a824b3cba80d   \n",
       "1989374   64616155  8687774.0  1d767047c6955c86ef4e0626bc60d213   \n",
       "1989375   64616156  8688045.0  e00a871c3291782beb9de879fa5bcf71   \n",
       "\n",
       "             MessageReceivedDate     MessageProcessedDate  \\\n",
       "0        2023-07-01 06:53:34.413  2023-07-01 06:53:37.720   \n",
       "1        2023-07-01 06:53:24.603  2023-07-01 06:53:28.590   \n",
       "2        2023-07-01 06:59:56.263  2023-07-01 06:59:59.610   \n",
       "3        2023-07-01 14:34:52.870  2023-07-01 14:34:55.547   \n",
       "4        2023-07-01 14:34:35.300  2023-07-01 14:34:39.380   \n",
       "...                          ...                      ...   \n",
       "1989371  2023-08-31 23:59:50.757  2023-08-31 23:59:53.393   \n",
       "1989372  2023-08-31 23:59:50.757  2023-08-31 23:59:53.370   \n",
       "1989373  2023-08-31 23:59:53.600  2023-08-31 23:59:57.260   \n",
       "1989374  2023-08-31 23:59:55.637  2023-08-31 23:59:57.413   \n",
       "1989375  2023-08-31 23:59:56.857  2023-08-31 23:59:57.547   \n",
       "\n",
       "                       DateEvent   TagNumber local_or_transfer  \n",
       "0        2023-07-01 06:53:37.717  2425399448                 L  \n",
       "1        2023-07-01 06:53:28.577  2425388102                 L  \n",
       "2        2023-07-01 06:59:59.607  3555170959                 L  \n",
       "3        2023-07-01 14:34:55.543  2316437470                 L  \n",
       "4        2023-07-01 14:34:39.380  2316437464                 L  \n",
       "...                          ...         ...               ...  \n",
       "1989371  2023-08-31 23:59:53.390   263789487                 L  \n",
       "1989372  2023-08-31 23:59:53.367   395191461                 L  \n",
       "1989373  2023-08-31 23:59:57.257  7115420782                 L  \n",
       "1989374  2023-08-31 23:59:57.413   216561658                 L  \n",
       "1989375  2023-08-31 23:59:57.543   555105787                 T  \n",
       "\n",
       "[1989376 rows x 8 columns]"
      ]
     },
     "execution_count": 3,
     "metadata": {},
     "output_type": "execute_result"
    }
   ],
   "source": [
    "import pandas as pd\n",
    "\n",
    "main_df = pd.read_csv(r'C:\\Users\\akozhevnikov\\Downloads\\hakatone\\bsm_data_train.csv')\n",
    "main_df = main_df.drop_duplicates('ident_bag', keep='first').reset_index(drop=True)\n",
    "main_df"
   ]
  },
  {
   "cell_type": "code",
   "execution_count": 4,
   "id": "d7f19487",
   "metadata": {},
   "outputs": [
    {
     "data": {
      "text/html": [
       "<div>\n",
       "<style scoped>\n",
       "    .dataframe tbody tr th:only-of-type {\n",
       "        vertical-align: middle;\n",
       "    }\n",
       "\n",
       "    .dataframe tbody tr th {\n",
       "        vertical-align: top;\n",
       "    }\n",
       "\n",
       "    .dataframe thead th {\n",
       "        text-align: right;\n",
       "    }\n",
       "</style>\n",
       "<table border=\"1\" class=\"dataframe\">\n",
       "  <thead>\n",
       "    <tr style=\"text-align: right;\">\n",
       "      <th></th>\n",
       "      <th>ident_bag</th>\n",
       "      <th>i_id</th>\n",
       "      <th>pax_id_hash</th>\n",
       "      <th>MessageReceivedDate</th>\n",
       "      <th>MessageProcessedDate</th>\n",
       "      <th>DateEvent</th>\n",
       "      <th>TagNumber</th>\n",
       "      <th>local_or_transfer</th>\n",
       "      <th>MessageReceivedSeconds</th>\n",
       "    </tr>\n",
       "  </thead>\n",
       "  <tbody>\n",
       "    <tr>\n",
       "      <th>24</th>\n",
       "      <td>62582289</td>\n",
       "      <td>8628896.0</td>\n",
       "      <td>fd9df7b143e63e79d5260fc21ca97db6</td>\n",
       "      <td>2023-07-01 00:01:01.843</td>\n",
       "      <td>2023-07-01 00:01:05.583</td>\n",
       "      <td>2023-07-01 00:01:05.580</td>\n",
       "      <td>555966473</td>\n",
       "      <td>L</td>\n",
       "      <td>0</td>\n",
       "    </tr>\n",
       "    <tr>\n",
       "      <th>26</th>\n",
       "      <td>62582291</td>\n",
       "      <td>8628888.0</td>\n",
       "      <td>e8caeb9273f8eb7ef74a1ca81e7d7e0d</td>\n",
       "      <td>2023-07-01 00:01:03.883</td>\n",
       "      <td>2023-07-01 00:01:06.037</td>\n",
       "      <td>2023-07-01 00:01:06.033</td>\n",
       "      <td>555051923</td>\n",
       "      <td>L</td>\n",
       "      <td>0</td>\n",
       "    </tr>\n",
       "    <tr>\n",
       "      <th>25</th>\n",
       "      <td>62582290</td>\n",
       "      <td>8628883.0</td>\n",
       "      <td>8fe4990b9753001ee8e3217ed529d17f</td>\n",
       "      <td>2023-07-01 00:01:02.663</td>\n",
       "      <td>2023-07-01 00:01:05.857</td>\n",
       "      <td>2023-07-01 00:01:05.853</td>\n",
       "      <td>555046631</td>\n",
       "      <td>L</td>\n",
       "      <td>0</td>\n",
       "    </tr>\n",
       "    <tr>\n",
       "      <th>23</th>\n",
       "      <td>62582288</td>\n",
       "      <td>8629186.0</td>\n",
       "      <td>963fd5c737cb22da29b31ea0eac85fb8</td>\n",
       "      <td>2023-07-01 00:01:00.623</td>\n",
       "      <td>2023-07-01 00:01:05.410</td>\n",
       "      <td>2023-07-01 00:01:05.407</td>\n",
       "      <td>555944815</td>\n",
       "      <td>T</td>\n",
       "      <td>0</td>\n",
       "    </tr>\n",
       "    <tr>\n",
       "      <th>22</th>\n",
       "      <td>62582287</td>\n",
       "      <td>8628902.0</td>\n",
       "      <td>c54120fd0cde2d55a70b6383af34381d</td>\n",
       "      <td>2023-07-01 00:00:48.627</td>\n",
       "      <td>2023-07-01 00:00:51.130</td>\n",
       "      <td>2023-07-01 00:00:51.127</td>\n",
       "      <td>555007658</td>\n",
       "      <td>L</td>\n",
       "      <td>0</td>\n",
       "    </tr>\n",
       "    <tr>\n",
       "      <th>...</th>\n",
       "      <td>...</td>\n",
       "      <td>...</td>\n",
       "      <td>...</td>\n",
       "      <td>...</td>\n",
       "      <td>...</td>\n",
       "      <td>...</td>\n",
       "      <td>...</td>\n",
       "      <td>...</td>\n",
       "      <td>...</td>\n",
       "    </tr>\n",
       "    <tr>\n",
       "      <th>1989350</th>\n",
       "      <td>64616131</td>\n",
       "      <td>8687838.0</td>\n",
       "      <td>8479e2b93d72cbd4399fa31de84013e3</td>\n",
       "      <td>2023-08-31 23:59:10.413</td>\n",
       "      <td>2023-08-31 23:59:13.033</td>\n",
       "      <td>2023-08-31 23:59:13.030</td>\n",
       "      <td>555475009</td>\n",
       "      <td>T</td>\n",
       "      <td>89279</td>\n",
       "    </tr>\n",
       "    <tr>\n",
       "      <th>1989349</th>\n",
       "      <td>64616130</td>\n",
       "      <td>8688009.0</td>\n",
       "      <td>8a8a644086752ab32e056550927b7996</td>\n",
       "      <td>2023-08-31 23:59:05.537</td>\n",
       "      <td>2023-08-31 23:59:08.983</td>\n",
       "      <td>2023-08-31 23:59:08.980</td>\n",
       "      <td>555256544</td>\n",
       "      <td>T</td>\n",
       "      <td>89279</td>\n",
       "    </tr>\n",
       "    <tr>\n",
       "      <th>1989374</th>\n",
       "      <td>64616155</td>\n",
       "      <td>8687774.0</td>\n",
       "      <td>1d767047c6955c86ef4e0626bc60d213</td>\n",
       "      <td>2023-08-31 23:59:55.637</td>\n",
       "      <td>2023-08-31 23:59:57.413</td>\n",
       "      <td>2023-08-31 23:59:57.413</td>\n",
       "      <td>216561658</td>\n",
       "      <td>L</td>\n",
       "      <td>89279</td>\n",
       "    </tr>\n",
       "    <tr>\n",
       "      <th>1989361</th>\n",
       "      <td>64616142</td>\n",
       "      <td>8687766.0</td>\n",
       "      <td>914af60b3dc9f64926b735d85189afca</td>\n",
       "      <td>2023-08-31 23:59:25.483</td>\n",
       "      <td>2023-08-31 23:59:29.097</td>\n",
       "      <td>2023-08-31 23:59:29.093</td>\n",
       "      <td>555439285</td>\n",
       "      <td>L</td>\n",
       "      <td>89279</td>\n",
       "    </tr>\n",
       "    <tr>\n",
       "      <th>1989375</th>\n",
       "      <td>64616156</td>\n",
       "      <td>8688045.0</td>\n",
       "      <td>e00a871c3291782beb9de879fa5bcf71</td>\n",
       "      <td>2023-08-31 23:59:56.857</td>\n",
       "      <td>2023-08-31 23:59:57.547</td>\n",
       "      <td>2023-08-31 23:59:57.543</td>\n",
       "      <td>555105787</td>\n",
       "      <td>T</td>\n",
       "      <td>89279</td>\n",
       "    </tr>\n",
       "  </tbody>\n",
       "</table>\n",
       "<p>1989376 rows × 9 columns</p>\n",
       "</div>"
      ],
      "text/plain": [
       "         ident_bag       i_id                       pax_id_hash  \\\n",
       "24        62582289  8628896.0  fd9df7b143e63e79d5260fc21ca97db6   \n",
       "26        62582291  8628888.0  e8caeb9273f8eb7ef74a1ca81e7d7e0d   \n",
       "25        62582290  8628883.0  8fe4990b9753001ee8e3217ed529d17f   \n",
       "23        62582288  8629186.0  963fd5c737cb22da29b31ea0eac85fb8   \n",
       "22        62582287  8628902.0  c54120fd0cde2d55a70b6383af34381d   \n",
       "...            ...        ...                               ...   \n",
       "1989350   64616131  8687838.0  8479e2b93d72cbd4399fa31de84013e3   \n",
       "1989349   64616130  8688009.0  8a8a644086752ab32e056550927b7996   \n",
       "1989374   64616155  8687774.0  1d767047c6955c86ef4e0626bc60d213   \n",
       "1989361   64616142  8687766.0  914af60b3dc9f64926b735d85189afca   \n",
       "1989375   64616156  8688045.0  e00a871c3291782beb9de879fa5bcf71   \n",
       "\n",
       "             MessageReceivedDate     MessageProcessedDate  \\\n",
       "24       2023-07-01 00:01:01.843  2023-07-01 00:01:05.583   \n",
       "26       2023-07-01 00:01:03.883  2023-07-01 00:01:06.037   \n",
       "25       2023-07-01 00:01:02.663  2023-07-01 00:01:05.857   \n",
       "23       2023-07-01 00:01:00.623  2023-07-01 00:01:05.410   \n",
       "22       2023-07-01 00:00:48.627  2023-07-01 00:00:51.130   \n",
       "...                          ...                      ...   \n",
       "1989350  2023-08-31 23:59:10.413  2023-08-31 23:59:13.033   \n",
       "1989349  2023-08-31 23:59:05.537  2023-08-31 23:59:08.983   \n",
       "1989374  2023-08-31 23:59:55.637  2023-08-31 23:59:57.413   \n",
       "1989361  2023-08-31 23:59:25.483  2023-08-31 23:59:29.097   \n",
       "1989375  2023-08-31 23:59:56.857  2023-08-31 23:59:57.547   \n",
       "\n",
       "                       DateEvent  TagNumber local_or_transfer  \\\n",
       "24       2023-07-01 00:01:05.580  555966473                 L   \n",
       "26       2023-07-01 00:01:06.033  555051923                 L   \n",
       "25       2023-07-01 00:01:05.853  555046631                 L   \n",
       "23       2023-07-01 00:01:05.407  555944815                 T   \n",
       "22       2023-07-01 00:00:51.127  555007658                 L   \n",
       "...                          ...        ...               ...   \n",
       "1989350  2023-08-31 23:59:13.030  555475009                 T   \n",
       "1989349  2023-08-31 23:59:08.980  555256544                 T   \n",
       "1989374  2023-08-31 23:59:57.413  216561658                 L   \n",
       "1989361  2023-08-31 23:59:29.093  555439285                 L   \n",
       "1989375  2023-08-31 23:59:57.543  555105787                 T   \n",
       "\n",
       "         MessageReceivedSeconds  \n",
       "24                            0  \n",
       "26                            0  \n",
       "25                            0  \n",
       "23                            0  \n",
       "22                            0  \n",
       "...                         ...  \n",
       "1989350                   89279  \n",
       "1989349                   89279  \n",
       "1989374                   89279  \n",
       "1989361                   89279  \n",
       "1989375                   89279  \n",
       "\n",
       "[1989376 rows x 9 columns]"
      ]
     },
     "execution_count": 4,
     "metadata": {},
     "output_type": "execute_result"
    }
   ],
   "source": [
    "main_df['MessageReceivedSeconds'] = pd.to_datetime(main_df['MessageReceivedDate']).apply(lambda x: x.value) / 1000000000\n",
    "main_df['MessageReceivedSeconds'] -= main_df['MessageReceivedSeconds'].min()\n",
    "main_df['MessageReceivedSeconds'] = (main_df['MessageReceivedSeconds'] // 60).astype(int)\n",
    "main_df = main_df.sort_values(by='MessageReceivedSeconds')\n",
    "main_df"
   ]
  },
  {
   "cell_type": "code",
   "execution_count": 7,
   "id": "9bb3ed31",
   "metadata": {},
   "outputs": [],
   "source": [
    "target = main_df.MessageReceivedSeconds.value_counts().sort_index()"
   ]
  },
  {
   "cell_type": "code",
   "execution_count": 22,
   "id": "dad523c4",
   "metadata": {},
   "outputs": [
    {
     "data": {
      "text/plain": [
       "13"
      ]
     },
     "execution_count": 22,
     "metadata": {},
     "output_type": "execute_result"
    }
   ],
   "source": [
    "len(main_df[(main_df['MessageReceivedSeconds'] == 0) & (main_df['local_or_transfer'] == 'L')])"
   ]
  },
  {
   "cell_type": "code",
   "execution_count": 55,
   "id": "ba842395",
   "metadata": {},
   "outputs": [],
   "source": [
    "main_df['L'] = (main_df['local_or_transfer'] == 'L').astype(int)"
   ]
  },
  {
   "cell_type": "code",
   "execution_count": 56,
   "id": "77fbcf82",
   "metadata": {},
   "outputs": [],
   "source": [
    "main_df['T'] = (main_df['local_or_transfer'] == 'T').astype(int)"
   ]
  },
  {
   "cell_type": "code",
   "execution_count": 57,
   "id": "0cbf57c6",
   "metadata": {},
   "outputs": [
    {
     "data": {
      "text/html": [
       "<div>\n",
       "<style scoped>\n",
       "    .dataframe tbody tr th:only-of-type {\n",
       "        vertical-align: middle;\n",
       "    }\n",
       "\n",
       "    .dataframe tbody tr th {\n",
       "        vertical-align: top;\n",
       "    }\n",
       "\n",
       "    .dataframe thead th {\n",
       "        text-align: right;\n",
       "    }\n",
       "</style>\n",
       "<table border=\"1\" class=\"dataframe\">\n",
       "  <thead>\n",
       "    <tr style=\"text-align: right;\">\n",
       "      <th></th>\n",
       "      <th>ident_bag</th>\n",
       "      <th>i_id</th>\n",
       "      <th>pax_id_hash</th>\n",
       "      <th>MessageReceivedDate</th>\n",
       "      <th>MessageProcessedDate</th>\n",
       "      <th>DateEvent</th>\n",
       "      <th>TagNumber</th>\n",
       "      <th>local_or_transfer</th>\n",
       "      <th>MessageReceivedSeconds</th>\n",
       "      <th>L</th>\n",
       "      <th>T</th>\n",
       "    </tr>\n",
       "  </thead>\n",
       "  <tbody>\n",
       "    <tr>\n",
       "      <th>24</th>\n",
       "      <td>62582289</td>\n",
       "      <td>8628896.0</td>\n",
       "      <td>fd9df7b143e63e79d5260fc21ca97db6</td>\n",
       "      <td>2023-07-01 00:01:01.843</td>\n",
       "      <td>2023-07-01 00:01:05.583</td>\n",
       "      <td>2023-07-01 00:01:05.580</td>\n",
       "      <td>555966473</td>\n",
       "      <td>L</td>\n",
       "      <td>0</td>\n",
       "      <td>1</td>\n",
       "      <td>0</td>\n",
       "    </tr>\n",
       "    <tr>\n",
       "      <th>26</th>\n",
       "      <td>62582291</td>\n",
       "      <td>8628888.0</td>\n",
       "      <td>e8caeb9273f8eb7ef74a1ca81e7d7e0d</td>\n",
       "      <td>2023-07-01 00:01:03.883</td>\n",
       "      <td>2023-07-01 00:01:06.037</td>\n",
       "      <td>2023-07-01 00:01:06.033</td>\n",
       "      <td>555051923</td>\n",
       "      <td>L</td>\n",
       "      <td>0</td>\n",
       "      <td>1</td>\n",
       "      <td>0</td>\n",
       "    </tr>\n",
       "    <tr>\n",
       "      <th>25</th>\n",
       "      <td>62582290</td>\n",
       "      <td>8628883.0</td>\n",
       "      <td>8fe4990b9753001ee8e3217ed529d17f</td>\n",
       "      <td>2023-07-01 00:01:02.663</td>\n",
       "      <td>2023-07-01 00:01:05.857</td>\n",
       "      <td>2023-07-01 00:01:05.853</td>\n",
       "      <td>555046631</td>\n",
       "      <td>L</td>\n",
       "      <td>0</td>\n",
       "      <td>1</td>\n",
       "      <td>0</td>\n",
       "    </tr>\n",
       "    <tr>\n",
       "      <th>23</th>\n",
       "      <td>62582288</td>\n",
       "      <td>8629186.0</td>\n",
       "      <td>963fd5c737cb22da29b31ea0eac85fb8</td>\n",
       "      <td>2023-07-01 00:01:00.623</td>\n",
       "      <td>2023-07-01 00:01:05.410</td>\n",
       "      <td>2023-07-01 00:01:05.407</td>\n",
       "      <td>555944815</td>\n",
       "      <td>T</td>\n",
       "      <td>0</td>\n",
       "      <td>0</td>\n",
       "      <td>1</td>\n",
       "    </tr>\n",
       "    <tr>\n",
       "      <th>22</th>\n",
       "      <td>62582287</td>\n",
       "      <td>8628902.0</td>\n",
       "      <td>c54120fd0cde2d55a70b6383af34381d</td>\n",
       "      <td>2023-07-01 00:00:48.627</td>\n",
       "      <td>2023-07-01 00:00:51.130</td>\n",
       "      <td>2023-07-01 00:00:51.127</td>\n",
       "      <td>555007658</td>\n",
       "      <td>L</td>\n",
       "      <td>0</td>\n",
       "      <td>1</td>\n",
       "      <td>0</td>\n",
       "    </tr>\n",
       "    <tr>\n",
       "      <th>...</th>\n",
       "      <td>...</td>\n",
       "      <td>...</td>\n",
       "      <td>...</td>\n",
       "      <td>...</td>\n",
       "      <td>...</td>\n",
       "      <td>...</td>\n",
       "      <td>...</td>\n",
       "      <td>...</td>\n",
       "      <td>...</td>\n",
       "      <td>...</td>\n",
       "      <td>...</td>\n",
       "    </tr>\n",
       "    <tr>\n",
       "      <th>1989350</th>\n",
       "      <td>64616131</td>\n",
       "      <td>8687838.0</td>\n",
       "      <td>8479e2b93d72cbd4399fa31de84013e3</td>\n",
       "      <td>2023-08-31 23:59:10.413</td>\n",
       "      <td>2023-08-31 23:59:13.033</td>\n",
       "      <td>2023-08-31 23:59:13.030</td>\n",
       "      <td>555475009</td>\n",
       "      <td>T</td>\n",
       "      <td>89279</td>\n",
       "      <td>0</td>\n",
       "      <td>1</td>\n",
       "    </tr>\n",
       "    <tr>\n",
       "      <th>1989349</th>\n",
       "      <td>64616130</td>\n",
       "      <td>8688009.0</td>\n",
       "      <td>8a8a644086752ab32e056550927b7996</td>\n",
       "      <td>2023-08-31 23:59:05.537</td>\n",
       "      <td>2023-08-31 23:59:08.983</td>\n",
       "      <td>2023-08-31 23:59:08.980</td>\n",
       "      <td>555256544</td>\n",
       "      <td>T</td>\n",
       "      <td>89279</td>\n",
       "      <td>0</td>\n",
       "      <td>1</td>\n",
       "    </tr>\n",
       "    <tr>\n",
       "      <th>1989374</th>\n",
       "      <td>64616155</td>\n",
       "      <td>8687774.0</td>\n",
       "      <td>1d767047c6955c86ef4e0626bc60d213</td>\n",
       "      <td>2023-08-31 23:59:55.637</td>\n",
       "      <td>2023-08-31 23:59:57.413</td>\n",
       "      <td>2023-08-31 23:59:57.413</td>\n",
       "      <td>216561658</td>\n",
       "      <td>L</td>\n",
       "      <td>89279</td>\n",
       "      <td>1</td>\n",
       "      <td>0</td>\n",
       "    </tr>\n",
       "    <tr>\n",
       "      <th>1989361</th>\n",
       "      <td>64616142</td>\n",
       "      <td>8687766.0</td>\n",
       "      <td>914af60b3dc9f64926b735d85189afca</td>\n",
       "      <td>2023-08-31 23:59:25.483</td>\n",
       "      <td>2023-08-31 23:59:29.097</td>\n",
       "      <td>2023-08-31 23:59:29.093</td>\n",
       "      <td>555439285</td>\n",
       "      <td>L</td>\n",
       "      <td>89279</td>\n",
       "      <td>1</td>\n",
       "      <td>0</td>\n",
       "    </tr>\n",
       "    <tr>\n",
       "      <th>1989375</th>\n",
       "      <td>64616156</td>\n",
       "      <td>8688045.0</td>\n",
       "      <td>e00a871c3291782beb9de879fa5bcf71</td>\n",
       "      <td>2023-08-31 23:59:56.857</td>\n",
       "      <td>2023-08-31 23:59:57.547</td>\n",
       "      <td>2023-08-31 23:59:57.543</td>\n",
       "      <td>555105787</td>\n",
       "      <td>T</td>\n",
       "      <td>89279</td>\n",
       "      <td>0</td>\n",
       "      <td>1</td>\n",
       "    </tr>\n",
       "  </tbody>\n",
       "</table>\n",
       "<p>1989376 rows × 11 columns</p>\n",
       "</div>"
      ],
      "text/plain": [
       "         ident_bag       i_id                       pax_id_hash  \\\n",
       "24        62582289  8628896.0  fd9df7b143e63e79d5260fc21ca97db6   \n",
       "26        62582291  8628888.0  e8caeb9273f8eb7ef74a1ca81e7d7e0d   \n",
       "25        62582290  8628883.0  8fe4990b9753001ee8e3217ed529d17f   \n",
       "23        62582288  8629186.0  963fd5c737cb22da29b31ea0eac85fb8   \n",
       "22        62582287  8628902.0  c54120fd0cde2d55a70b6383af34381d   \n",
       "...            ...        ...                               ...   \n",
       "1989350   64616131  8687838.0  8479e2b93d72cbd4399fa31de84013e3   \n",
       "1989349   64616130  8688009.0  8a8a644086752ab32e056550927b7996   \n",
       "1989374   64616155  8687774.0  1d767047c6955c86ef4e0626bc60d213   \n",
       "1989361   64616142  8687766.0  914af60b3dc9f64926b735d85189afca   \n",
       "1989375   64616156  8688045.0  e00a871c3291782beb9de879fa5bcf71   \n",
       "\n",
       "             MessageReceivedDate     MessageProcessedDate  \\\n",
       "24       2023-07-01 00:01:01.843  2023-07-01 00:01:05.583   \n",
       "26       2023-07-01 00:01:03.883  2023-07-01 00:01:06.037   \n",
       "25       2023-07-01 00:01:02.663  2023-07-01 00:01:05.857   \n",
       "23       2023-07-01 00:01:00.623  2023-07-01 00:01:05.410   \n",
       "22       2023-07-01 00:00:48.627  2023-07-01 00:00:51.130   \n",
       "...                          ...                      ...   \n",
       "1989350  2023-08-31 23:59:10.413  2023-08-31 23:59:13.033   \n",
       "1989349  2023-08-31 23:59:05.537  2023-08-31 23:59:08.983   \n",
       "1989374  2023-08-31 23:59:55.637  2023-08-31 23:59:57.413   \n",
       "1989361  2023-08-31 23:59:25.483  2023-08-31 23:59:29.097   \n",
       "1989375  2023-08-31 23:59:56.857  2023-08-31 23:59:57.547   \n",
       "\n",
       "                       DateEvent  TagNumber local_or_transfer  \\\n",
       "24       2023-07-01 00:01:05.580  555966473                 L   \n",
       "26       2023-07-01 00:01:06.033  555051923                 L   \n",
       "25       2023-07-01 00:01:05.853  555046631                 L   \n",
       "23       2023-07-01 00:01:05.407  555944815                 T   \n",
       "22       2023-07-01 00:00:51.127  555007658                 L   \n",
       "...                          ...        ...               ...   \n",
       "1989350  2023-08-31 23:59:13.030  555475009                 T   \n",
       "1989349  2023-08-31 23:59:08.980  555256544                 T   \n",
       "1989374  2023-08-31 23:59:57.413  216561658                 L   \n",
       "1989361  2023-08-31 23:59:29.093  555439285                 L   \n",
       "1989375  2023-08-31 23:59:57.543  555105787                 T   \n",
       "\n",
       "         MessageReceivedSeconds  L  T  \n",
       "24                            0  1  0  \n",
       "26                            0  1  0  \n",
       "25                            0  1  0  \n",
       "23                            0  0  1  \n",
       "22                            0  1  0  \n",
       "...                         ... .. ..  \n",
       "1989350                   89279  0  1  \n",
       "1989349                   89279  0  1  \n",
       "1989374                   89279  1  0  \n",
       "1989361                   89279  1  0  \n",
       "1989375                   89279  0  1  \n",
       "\n",
       "[1989376 rows x 11 columns]"
      ]
     },
     "execution_count": 57,
     "metadata": {},
     "output_type": "execute_result"
    }
   ],
   "source": [
    "main_df"
   ]
  },
  {
   "cell_type": "code",
   "execution_count": 67,
   "id": "96b88e4e",
   "metadata": {},
   "outputs": [],
   "source": [
    "main_df['Recived_Processed'] = (pd.to_datetime(main_df['MessageProcessedDate']) - pd.to_datetime(main_df['MessageReceivedDate'])).apply(lambda x: x.seconds)"
   ]
  },
  {
   "cell_type": "code",
   "execution_count": 78,
   "id": "3ec173ae",
   "metadata": {},
   "outputs": [
    {
     "name": "stdout",
     "output_type": "stream",
     "text": [
      "Wall time: 167 ms\n"
     ]
    }
   ],
   "source": [
    "%%time\n",
    "df = main_df[['MessageReceivedSeconds', 'L', 'T', 'Recived_Processed']].groupby('MessageReceivedSeconds').sum()"
   ]
  },
  {
   "cell_type": "code",
   "execution_count": 74,
   "id": "0ac9f909",
   "metadata": {},
   "outputs": [],
   "source": [
    "target= target.reset_index(drop=True)"
   ]
  },
  {
   "cell_type": "code",
   "execution_count": 137,
   "id": "ff0beba4",
   "metadata": {},
   "outputs": [
    {
     "data": {
      "text/plain": [
       "MessageReceivedSeconds\n",
       "0        42\n",
       "1        55\n",
       "2        32\n",
       "3        58\n",
       "4        38\n",
       "         ..\n",
       "89275    51\n",
       "89276    56\n",
       "89277    66\n",
       "89278    64\n",
       "89279    40\n",
       "Name: Recived_Processed, Length: 89217, dtype: int64"
      ]
     },
     "execution_count": 137,
     "metadata": {},
     "output_type": "execute_result"
    }
   ],
   "source": [
    "df['Recived_Processed']"
   ]
  },
  {
   "cell_type": "code",
   "execution_count": 139,
   "id": "609d82e7",
   "metadata": {},
   "outputs": [],
   "source": [
    "import matplotlib.pyplot as plt"
   ]
  },
  {
   "cell_type": "code",
   "execution_count": 141,
   "id": "3bebe25a",
   "metadata": {},
   "outputs": [
    {
     "data": {
      "text/plain": [
       "{'whiskers': [<matplotlib.lines.Line2D at 0x1e74b0c0d30>,\n",
       "  <matplotlib.lines.Line2D at 0x1e74b0cf040>],\n",
       " 'caps': [<matplotlib.lines.Line2D at 0x1e74b0cf3d0>,\n",
       "  <matplotlib.lines.Line2D at 0x1e74b0cf5e0>],\n",
       " 'boxes': [<matplotlib.lines.Line2D at 0x1e74b0c0a60>],\n",
       " 'medians': [<matplotlib.lines.Line2D at 0x1e74b0cf8b0>],\n",
       " 'fliers': [<matplotlib.lines.Line2D at 0x1e74b0cfbb0>],\n",
       " 'means': []}"
      ]
     },
     "execution_count": 141,
     "metadata": {},
     "output_type": "execute_result"
    },
    {
     "data": {
      "image/png": "[encoded data removed]",
      "text/plain": [
       "<Figure size 432x288 with 1 Axes>"
      ]
     },
     "metadata": {
      "needs_background": "light"
     },
     "output_type": "display_data"
    }
   ],
   "source": [
    "plt.boxplot(df['Recived_Processed'])"
   ]
  },
  {
   "cell_type": "code",
   "execution_count": 143,
   "id": "0eb08687",
   "metadata": {},
   "outputs": [
    {
     "data": {
      "text/plain": [
       "count    89217.000000\n",
       "mean        39.493796\n",
       "std         82.411951\n",
       "min          0.000000\n",
       "25%         26.000000\n",
       "50%         38.000000\n",
       "75%         50.000000\n",
       "max      23790.000000\n",
       "Name: Recived_Processed, dtype: float64"
      ]
     },
     "execution_count": 143,
     "metadata": {},
     "output_type": "execute_result"
    }
   ],
   "source": [
    "df['Recived_Processed'].describecribe()"
   ]
  },
  {
   "cell_type": "code",
   "execution_count": 144,
   "id": "8b204bd6",
   "metadata": {},
   "outputs": [
    {
     "data": {
      "text/plain": [
       "{'whiskers': [<matplotlib.lines.Line2D at 0x1e75149c6d0>,\n",
       "  <matplotlib.lines.Line2D at 0x1e75149cb50>],\n",
       " 'caps': [<matplotlib.lines.Line2D at 0x1e75149cf40>,\n",
       "  <matplotlib.lines.Line2D at 0x1e750fd1ee0>],\n",
       " 'boxes': [<matplotlib.lines.Line2D at 0x1e75149c280>],\n",
       " 'medians': [<matplotlib.lines.Line2D at 0x1e750fd11f0>],\n",
       " 'fliers': [<matplotlib.lines.Line2D at 0x1e750fd1520>],\n",
       " 'means': []}"
      ]
     },
     "execution_count": 144,
     "metadata": {},
     "output_type": "execute_result"
    },
    {
     "data": {
      "image/png": "[encoded data removed]",
      "text/plain": [
       "<Figure size 432x288 with 1 Axes>"
      ]
     },
     "metadata": {
      "needs_background": "light"
     },
     "output_type": "display_data"
    }
   ],
   "source": [
    "plt.boxplot(df['Recived_Processed'][df['Recived_Processed'] < 5000])"
   ]
  },
  {
   "cell_type": "code",
   "execution_count": 145,
   "id": "9bad2d47",
   "metadata": {},
   "outputs": [
    {
     "data": {
      "text/plain": [
       "{'whiskers': [<matplotlib.lines.Line2D at 0x1e75114e100>,\n",
       "  <matplotlib.lines.Line2D at 0x1e75114e070>],\n",
       " 'caps': [<matplotlib.lines.Line2D at 0x1e75114e820>,\n",
       "  <matplotlib.lines.Line2D at 0x1e75114ed00>],\n",
       " 'boxes': [<matplotlib.lines.Line2D at 0x1e75114e700>],\n",
       " 'medians': [<matplotlib.lines.Line2D at 0x1e75114ef40>],\n",
       " 'fliers': [<matplotlib.lines.Line2D at 0x1e751338040>],\n",
       " 'means': []}"
      ]
     },
     "execution_count": 145,
     "metadata": {},
     "output_type": "execute_result"
    },
    {
     "data": {
      "image/png": "[encoded data removed]",
      "text/plain": [
       "<Figure size 432x288 with 1 Axes>"
      ]
     },
     "metadata": {
      "needs_background": "light"
     },
     "output_type": "display_data"
    }
   ],
   "source": [
    "plt.boxplot(df['Recived_Processed'][df['Recived_Processed'] < 250])"
   ]
  },
  {
   "cell_type": "code",
   "execution_count": 146,
   "id": "4b54106e",
   "metadata": {},
   "outputs": [
    {
     "data": {
      "text/plain": [
       "{'whiskers': [<matplotlib.lines.Line2D at 0x1e757ded220>,\n",
       "  <matplotlib.lines.Line2D at 0x1e757ded610>],\n",
       " 'caps': [<matplotlib.lines.Line2D at 0x1e757ded940>,\n",
       "  <matplotlib.lines.Line2D at 0x1e757dede80>],\n",
       " 'boxes': [<matplotlib.lines.Line2D at 0x1e757dede50>],\n",
       " 'medians': [<matplotlib.lines.Line2D at 0x1e757fe0220>],\n",
       " 'fliers': [<matplotlib.lines.Line2D at 0x1e757fe04f0>],\n",
       " 'means': []}"
      ]
     },
     "execution_count": 146,
     "metadata": {},
     "output_type": "execute_result"
    },
    {
     "data": {
      "image/png": "[encoded data removed]",
      "text/plain": [
       "<Figure size 432x288 with 1 Axes>"
      ]
     },
     "metadata": {
      "needs_background": "light"
     },
     "output_type": "display_data"
    }
   ],
   "source": [
    "plt.boxplot(df['Recived_Processed'][df['Recived_Processed'] < 100])"
   ]
  },
  {
   "cell_type": "code",
   "execution_count": 150,
   "id": "bb09aba6",
   "metadata": {},
   "outputs": [
    {
     "data": {
      "text/plain": [
       "26.0"
      ]
     },
     "execution_count": 150,
     "metadata": {},
     "output_type": "execute_result"
    }
   ],
   "source": [
    "df['Recived_Processed'].quantile(0.25)"
   ]
  },
  {
   "cell_type": "code",
   "execution_count": 151,
   "id": "e5cd32d2",
   "metadata": {},
   "outputs": [
    {
     "data": {
      "text/plain": [
       "38.0"
      ]
     },
     "execution_count": 151,
     "metadata": {},
     "output_type": "execute_result"
    }
   ],
   "source": [
    "df['Recived_Processed'].quantile(0.5)"
   ]
  },
  {
   "cell_type": "code",
   "execution_count": 245,
   "id": "23719a2c",
   "metadata": {},
   "outputs": [
    {
     "data": {
      "text/plain": [
       "50.0"
      ]
     },
     "execution_count": 245,
     "metadata": {},
     "output_type": "execute_result"
    }
   ],
   "source": [
    "df['Recived_Processed'].quantile(0.75)"
   ]
  },
  {
   "cell_type": "code",
   "execution_count": 170,
   "id": "88fdeb5e",
   "metadata": {},
   "outputs": [
    {
     "data": {
      "text/plain": [
       "62.0"
      ]
     },
     "execution_count": 170,
     "metadata": {},
     "output_type": "execute_result"
    }
   ],
   "source": [
    "df['Recived_Processed'].quantile(0.9)"
   ]
  },
  {
   "cell_type": "code",
   "execution_count": 158,
   "id": "eaa926fc",
   "metadata": {},
   "outputs": [],
   "source": [
    "import math"
   ]
  },
  {
   "cell_type": "code",
   "execution_count": 169,
   "id": "54311628",
   "metadata": {},
   "outputs": [
    {
     "data": {
      "text/plain": [
       "[<matplotlib.lines.Line2D at 0x1e758025910>]"
      ]
     },
     "execution_count": 169,
     "metadata": {},
     "output_type": "execute_result"
    },
    {
     "data": {
      "image/png": "[encoded data removed]",
      "text/plain": [
       "<Figure size 432x288 with 1 Axes>"
      ]
     },
     "metadata": {
      "needs_background": "light"
     },
     "output_type": "display_data"
    }
   ],
   "source": [
    "plt.plot(df['Recived_Processed'].apply(lambda x: math.log(x) if x > 0 else 0))"
   ]
  },
  {
   "cell_type": "markdown",
   "id": "4f15e67a",
   "metadata": {},
   "source": [
    "## рассчет доверительных интервалов "
   ]
  },
  {
   "cell_type": "code",
   "execution_count": 193,
   "id": "ac6f732b",
   "metadata": {},
   "outputs": [],
   "source": [
    "import scipy.stats as st"
   ]
  },
  {
   "cell_type": "code",
   "execution_count": 201,
   "id": "ff05a043",
   "metadata": {},
   "outputs": [
    {
     "data": {
      "text/plain": [
       "(38.95301633893097, 40.03457571191135)"
      ]
     },
     "execution_count": 201,
     "metadata": {},
     "output_type": "execute_result"
    }
   ],
   "source": [
    "st.t.interval(alpha=0.95, df=len(df)-1, loc=np.mean(df['Recived_Processed']), scale=st.sem(df['Recived_Processed'])) "
   ]
  },
  {
   "cell_type": "code",
   "execution_count": 200,
   "id": "86d60d55",
   "metadata": {
    "scrolled": true
   },
   "outputs": [
    {
     "data": {
      "text/plain": [
       "(38.95302367551292, 40.03456837532941)"
      ]
     },
     "execution_count": 200,
     "metadata": {},
     "output_type": "execute_result"
    }
   ],
   "source": [
    "st.norm.interval(alpha=0.95, loc=np.mean(df['Recived_Processed']), scale=st.sem(df['Recived_Processed']))"
   ]
  },
  {
   "cell_type": "markdown",
   "id": "43d7736d",
   "metadata": {},
   "source": [
    "## поведеение данных перед выбросами "
   ]
  },
  {
   "cell_type": "code",
   "execution_count": 227,
   "id": "f282346c",
   "metadata": {},
   "outputs": [],
   "source": [
    "mean = []\n",
    "diff = []\n",
    "for i in (df[df['Recived_Processed'] > 62]).index:\n",
    "    if i - 150 >= 0:\n",
    "        mean.append(df['Recived_Processed'][i - 150:i].mean())\n",
    "        diff.append(df['Recived_Processed'][i - 150:i].diff().mean())\n",
    "    else:\n",
    "        continue "
   ]
  },
  {
   "cell_type": "code",
   "execution_count": 228,
   "id": "27a7bfb7",
   "metadata": {},
   "outputs": [],
   "source": [
    "mean = pd.Series(mean)"
   ]
  },
  {
   "cell_type": "code",
   "execution_count": 229,
   "id": "2477ed68",
   "metadata": {},
   "outputs": [
    {
     "data": {
      "text/plain": [
       "56.02411944241288"
      ]
     },
     "execution_count": 229,
     "metadata": {},
     "output_type": "execute_result"
    }
   ],
   "source": [
    "mean.mean()"
   ]
  },
  {
   "cell_type": "code",
   "execution_count": 230,
   "id": "bb540258",
   "metadata": {},
   "outputs": [
    {
     "data": {
      "text/plain": [
       "39.49379602542116"
      ]
     },
     "execution_count": 230,
     "metadata": {},
     "output_type": "execute_result"
    }
   ],
   "source": [
    "df['Recived_Processed'].mean()"
   ]
  },
  {
   "cell_type": "code",
   "execution_count": 231,
   "id": "80fcd00f",
   "metadata": {},
   "outputs": [],
   "source": [
    "diff = pd.Series(diff)"
   ]
  },
  {
   "cell_type": "code",
   "execution_count": 234,
   "id": "c97d5d21",
   "metadata": {},
   "outputs": [
    {
     "data": {
      "text/plain": [
       "0.05718298409451522"
      ]
     },
     "execution_count": 234,
     "metadata": {},
     "output_type": "execute_result"
    }
   ],
   "source": [
    "diff.mean()"
   ]
  },
  {
   "cell_type": "code",
   "execution_count": 244,
   "id": "469452ec",
   "metadata": {},
   "outputs": [
    {
     "data": {
      "text/plain": [
       "0.00018098734660424148"
      ]
     },
     "execution_count": 244,
     "metadata": {},
     "output_type": "execute_result"
    }
   ],
   "source": [
    "df['Recived_Processed'].diff().rolling(150).mean().mean()"
   ]
  },
  {
   "cell_type": "markdown",
   "id": "3cac6712",
   "metadata": {},
   "source": [
    "Перед выбросами среднее значение и скорость роста данных выше, чем в целом по выборке \n",
    "\n",
    "Следовательно, выбросы можно предсказывать по изменению поведения данных "
   ]
  },
  {
   "cell_type": "code",
   "execution_count": null,
   "id": "66f6cfe5",
   "metadata": {},
   "outputs": [],
   "source": []
  }
 ],
 "metadata": {
  "kernelspec": {
   "display_name": "Python 3 (ipykernel)",
   "language": "python",
   "name": "python3"
  },
  "language_info": {
   "codemirror_mode": {
    "name": "ipython",
    "version": 3
   },
   "file_extension": ".py",
   "mimetype": "text/x-python",
   "name": "python",
   "nbconvert_exporter": "python",
   "pygments_lexer": "ipython3",
   "version": "3.9.6"
  }
 },
 "nbformat": 4,
 "nbformat_minor": 5
}
